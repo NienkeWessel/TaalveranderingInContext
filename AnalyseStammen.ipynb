{
 "cells": [
  {
   "cell_type": "code",
   "execution_count": 1,
   "metadata": {},
   "outputs": [],
   "source": [
    "import pandas as pd\n",
    "import csv\n",
    "import math\n",
    "import re"
   ]
  },
  {
   "cell_type": "code",
   "execution_count": 2,
   "metadata": {},
   "outputs": [
    {
     "name": "stdout",
     "output_type": "stream",
     "text": [
      "      Code Itemcode      Word UTF_transcription Unicode_transcription\n",
      "0    A001p      525  schaapje      sxi2.6_p_k6            sxɪˑə̲p̲kə \n",
      "1    A001q      525  schaapje         sxi6_pk6              sxiə̲pkə \n",
      "2    A001z      525  schaapje       6n sxi.pk6            ən sxiˑpkə \n",
      "3    A002p      525  schaapje        sxi.6p]k6             sxiˑəp̚kə \n",
      "4    A007p      525  schaapje      6n ski2e_pi            ən skɪe̲pi \n",
      "..     ...      ...       ...               ...                   ...\n",
      "612  Q240p      525  schaapje      s2o7pk6 --V             ʃœpkə --v \n",
      "613  s007p      525  schaapje         s2a2pt|6                ʃɑpt̡ə \n",
      "614  s015p      525  schaapje         s2a2pt|6                ʃɑpt̡ə \n",
      "615  s017p      525  schaapje         s2a2pt|6                ʃɑpt̡ə \n",
      "616  s021a      525  schaapje         s2a2pt|6                 ʃɑpt̡ə\n",
      "\n",
      "[617 rows x 5 columns]\n"
     ]
    }
   ],
   "source": [
    "df = pd.read_excel('Data.xlsx', dtype=str)\n",
    "print(df)"
   ]
  },
  {
   "cell_type": "markdown",
   "metadata": {},
   "source": [
    "# Data opschonen\n",
    "Bepaalde karakters worden uit de transcriptie verwijderd om de data-analyse makkelijker te maken."
   ]
  },
  {
   "cell_type": "code",
   "execution_count": 3,
   "metadata": {},
   "outputs": [
    {
     "name": "stdout",
     "output_type": "stream",
     "text": [
      "      Code Itemcode      Word UTF_transcription Unicode_transcription  \\\n",
      "0    A001p      525  schaapje      sxi2.6_p_k6            sxɪˑə̲p̲kə    \n",
      "1    A001q      525  schaapje         sxi6_pk6              sxiə̲pkə    \n",
      "2    A001z      525  schaapje       6n sxi.pk6            ən sxiˑpkə    \n",
      "3    A002p      525  schaapje        sxi.6p]k6             sxiˑəp̚kə    \n",
      "4    A007p      525  schaapje      6n ski2e_pi            ən skɪe̲pi    \n",
      "..     ...      ...       ...               ...                   ...   \n",
      "612  Q240p      525  schaapje      s2o7pk6 --V             ʃœpkə --v    \n",
      "613  s007p      525  schaapje         s2a2pt|6                ʃɑpt̡ə    \n",
      "614  s015p      525  schaapje         s2a2pt|6                ʃɑpt̡ə    \n",
      "615  s017p      525  schaapje         s2a2pt|6                ʃɑpt̡ə    \n",
      "616  s021a      525  schaapje         s2a2pt|6                 ʃɑpt̡ə   \n",
      "\n",
      "    clean_UTF_transcription clean_Unicode_transcription  \n",
      "0                sxi2.6pk6                  sxɪˑə̲p̲kə   \n",
      "1                  sxi6pk6                    sxiə̲pkə   \n",
      "2               6n sxi.pk6                  ən sxiˑpkə   \n",
      "3                 sxi.6pk6                   sxiˑəp̚kə   \n",
      "4               6n ski2epi                  ən skɪe̲pi   \n",
      "..                      ...                         ...  \n",
      "612               s2o7pk6                       ʃœpkə    \n",
      "613               s2a2pt|6                      ʃɑpt̡ə   \n",
      "614               s2a2pt|6                      ʃɑpt̡ə   \n",
      "615               s2a2pt|6                      ʃɑpt̡ə   \n",
      "616               s2a2pt|6                       ʃɑpt̡ə  \n",
      "\n",
      "[617 rows x 7 columns]\n"
     ]
    }
   ],
   "source": [
    "\n",
    "\n",
    "def clean_data(word):\n",
    "    try: \n",
    "        if isinstance(word, str):\n",
    "            word = word.replace(\"_\", \"\")\n",
    "            word = word.replace(\"--V\", \"\")\n",
    "            word = word.replace(\"--v\", \"\")\n",
    "            word = word.replace(\"]\", \"\")\n",
    "            return word\n",
    "        else:\n",
    "            return \"\"\n",
    "    except: \n",
    "        print(word)\n",
    "\n",
    "df['clean_UTF_transcription'] = df['UTF_transcription'].apply(clean_data)\n",
    "df['clean_Unicode_transcription'] = df['Unicode_transcription'].apply(clean_data)\n",
    "\n",
    "print(df)\n",
    "\n",
    "\n"
   ]
  },
  {
   "cell_type": "markdown",
   "metadata": {},
   "source": [
    "# Maak aparte dataset voor uitgangen op -pk"
   ]
  },
  {
   "cell_type": "code",
   "execution_count": 4,
   "metadata": {
    "scrolled": false
   },
   "outputs": [
    {
     "name": "stdout",
     "output_type": "stream",
     "text": [
      "      Code Itemcode      Word UTF_transcription Unicode_transcription  \\\n",
      "0    A001p      525  schaapje      sxi2.6_p_k6            sxɪˑə̲p̲kə    \n",
      "1    A001q      525  schaapje         sxi6_pk6              sxiə̲pkə    \n",
      "2    A001z      525  schaapje       6n sxi.pk6            ən sxiˑpkə    \n",
      "3    A002p      525  schaapje        sxi.6p]k6             sxiˑəp̚kə    \n",
      "5    B001a      525  schaapje        ska:<p]k6             skaː̘p̚kə    \n",
      "..     ...      ...       ...               ...                   ...   \n",
      "607  Q198p      525  schaapje  s2o7:'>pk6 -S-V        ʃœː̝̙pkə -s -v    \n",
      "608  Q200p      525  schaapje     s2o7:pk6 --V            ʃœːpkə --v    \n",
      "609  Q203p      525  schaapje   6 s2o7pk6 -S-V         ə ʃœpkə -s -v    \n",
      "610  Q207p      525  schaapje  6 s2o7p]k6 -S-V        ə ʃœp̚kə -s -v    \n",
      "612  Q240p      525  schaapje      s2o7pk6 --V             ʃœpkə --v    \n",
      "\n",
      "    clean_UTF_transcription clean_Unicode_transcription  \n",
      "0                sxi2.6pk6                  sxɪˑə̲p̲kə   \n",
      "1                  sxi6pk6                    sxiə̲pkə   \n",
      "2               6n sxi.pk6                  ən sxiˑpkə   \n",
      "3                 sxi.6pk6                   sxiˑəp̚kə   \n",
      "5                 ska:<pk6                   skaː̘p̚kə   \n",
      "..                      ...                         ...  \n",
      "607        s2o7:'>pk6 -S-V              ʃœː̝̙pkə -s -v   \n",
      "608              s2o7:pk6                      ʃœːpkə    \n",
      "609         6 s2o7pk6 -S-V               ə ʃœpkə -s -v   \n",
      "610         6 s2o7pk6 -S-V              ə ʃœp̚kə -s -v   \n",
      "612               s2o7pk6                       ʃœpkə    \n",
      "\n",
      "[348 rows x 7 columns]\n"
     ]
    }
   ],
   "source": [
    "def filter_pk(word):\n",
    "    return len(re.findall(\"pk\", word))>0\n",
    "\n",
    "df_pk = df[df['clean_UTF_transcription'].apply(filter_pk)]\n",
    "print(df_pk)\n",
    "\n"
   ]
  },
  {
   "cell_type": "markdown",
   "metadata": {},
   "source": [
    "# Maak aparte dataset voor uitgangen op -pt"
   ]
  },
  {
   "cell_type": "code",
   "execution_count": 5,
   "metadata": {
    "scrolled": true
   },
   "outputs": [
    {
     "name": "stdout",
     "output_type": "stream",
     "text": [
      "      Code Itemcode      Word          UTF_transcription  \\\n",
      "142  F074p      525  schaapje  ska3:pi \\n(transcr.ptvr)    \n",
      "250  H002p      525  schaapje                  s?a2pt|6    \n",
      "251  H003p      525  schaapje              s2x}a2pt|s26    \n",
      "252  H016p      525  schaapje                s2x}o2pt|6    \n",
      "253  H036p      525  schaapje              sxa2>pt|j|i`    \n",
      "254  H046p      525  schaapje            s2x}a2.<pt|s26    \n",
      "255  H054p      525  schaapje                 sx}a2pt|6    \n",
      "256  H061p      525  schaapje                 sx}a2pt|6    \n",
      "257  H069p      525  schaapje    sx}a2>pt|6 / s?a2>pt|6    \n",
      "258  H076p      525  schaapje                s2x}a2ptj6    \n",
      "259  H084p      525  schaapje                s2x}a2pt|6    \n",
      "260  H116p      525  schaapje                  s?a2pt|6    \n",
      "503  N003p      525  schaapje                  s2a2pt|6    \n",
      "504  N006p      525  schaapje                s2a2.<pt|6    \n",
      "505  N014p      525  schaapje                s2x}a2pt|6    \n",
      "506  N021p      525  schaapje                s2x}a2pt|6    \n",
      "507  N028a      525  schaapje              s|x}a2pt|s26    \n",
      "509  N056p      525  schaapje                  s2a2pt|6    \n",
      "510  N065p      525  schaapje              s|x}a2pt|s26    \n",
      "511  N067p      525  schaapje                s2x}a2pt|6    \n",
      "512  N072p      525  schaapje                s2x}a2pt|6    \n",
      "515  N104p      525  schaapje                  s2a2pt|6    \n",
      "516  N108p      525  schaapje              s2x}a2pt|s26    \n",
      "520  N163p      525  schaapje                s2x}a2pt|6    \n",
      "613  s007p      525  schaapje                  s2a2pt|6    \n",
      "614  s015p      525  schaapje                  s2a2pt|6    \n",
      "615  s017p      525  schaapje                  s2a2pt|6    \n",
      "616  s021a      525  schaapje                  s2a2pt|6    \n",
      "\n",
      "     Unicode_transcription    clean_UTF_transcription  \\\n",
      "142                skɒːpi   ska3:pi \\n(transcr.ptvr)    \n",
      "250               sʔɑpt̡ə                   s?a2pt|6    \n",
      "251             ʃxˁɑpt̡ʃə               s2x}a2pt|s26    \n",
      "252              ʃxˁɔpt̡ə                 s2x}o2pt|6    \n",
      "253           sxɑ̙pt̡j̡i̞               sxa2>pt|j|i`    \n",
      "254           ʃxˁɑˑ̘pt̡ʃə             s2x}a2.<pt|s26    \n",
      "255              sxˁɑpt̡ə                  sx}a2pt|6    \n",
      "256              sxˁɑpt̡ə                  sx}a2pt|6    \n",
      "257  sxˁɑ̙pt̡ə / sʔɑ̙pt̡ə     sx}a2>pt|6 / s?a2>pt|6    \n",
      "258              ʃxˁɑptjə                 s2x}a2ptj6    \n",
      "259              ʃxˁɑpt̡ə                 s2x}a2pt|6    \n",
      "260               sʔɑpt̡ə                   s?a2pt|6    \n",
      "503                ʃɑpt̡ə                   s2a2pt|6    \n",
      "504              ʃɑˑ̘pt̡ə                 s2a2.<pt|6    \n",
      "505              ʃxˁɑpt̡ə                 s2x}a2pt|6    \n",
      "506              ʃxˁɑpt̡ə                 s2x}a2pt|6    \n",
      "507            s̡xˁɑpt̡ʃə               s|x}a2pt|s26    \n",
      "509                ʃɑpt̡ə                   s2a2pt|6    \n",
      "510            s̡xˁɑpt̡ʃə               s|x}a2pt|s26    \n",
      "511              ʃxˁɑpt̡ə                 s2x}a2pt|6    \n",
      "512              ʃxˁɑpt̡ə                 s2x}a2pt|6    \n",
      "515                ʃɑpt̡ə                   s2a2pt|6    \n",
      "516             ʃxˁɑpt̡ʃə               s2x}a2pt|s26    \n",
      "520              ʃxˁɑpt̡ə                 s2x}a2pt|6    \n",
      "613                ʃɑpt̡ə                   s2a2pt|6    \n",
      "614                ʃɑpt̡ə                   s2a2pt|6    \n",
      "615                ʃɑpt̡ə                   s2a2pt|6    \n",
      "616                 ʃɑpt̡ə                  s2a2pt|6    \n",
      "\n",
      "    clean_Unicode_transcription  \n",
      "142                     skɒːpi   \n",
      "250                    sʔɑpt̡ə   \n",
      "251                  ʃxˁɑpt̡ʃə   \n",
      "252                   ʃxˁɔpt̡ə   \n",
      "253                sxɑ̙pt̡j̡i̞   \n",
      "254                ʃxˁɑˑ̘pt̡ʃə   \n",
      "255                   sxˁɑpt̡ə   \n",
      "256                   sxˁɑpt̡ə   \n",
      "257       sxˁɑ̙pt̡ə / sʔɑ̙pt̡ə   \n",
      "258                   ʃxˁɑptjə   \n",
      "259                   ʃxˁɑpt̡ə   \n",
      "260                    sʔɑpt̡ə   \n",
      "503                     ʃɑpt̡ə   \n",
      "504                   ʃɑˑ̘pt̡ə   \n",
      "505                   ʃxˁɑpt̡ə   \n",
      "506                   ʃxˁɑpt̡ə   \n",
      "507                 s̡xˁɑpt̡ʃə   \n",
      "509                     ʃɑpt̡ə   \n",
      "510                 s̡xˁɑpt̡ʃə   \n",
      "511                   ʃxˁɑpt̡ə   \n",
      "512                   ʃxˁɑpt̡ə   \n",
      "515                     ʃɑpt̡ə   \n",
      "516                  ʃxˁɑpt̡ʃə   \n",
      "520                   ʃxˁɑpt̡ə   \n",
      "613                     ʃɑpt̡ə   \n",
      "614                     ʃɑpt̡ə   \n",
      "615                     ʃɑpt̡ə   \n",
      "616                      ʃɑpt̡ə  \n"
     ]
    }
   ],
   "source": [
    "def filter_pt(word):\n",
    "    return len(re.findall(\"pt\", word))>0\n",
    " \n",
    "df_pt = df[df['clean_UTF_transcription'].apply(filter_pt)]\n",
    "print(df_pt)"
   ]
  },
  {
   "cell_type": "markdown",
   "metadata": {},
   "source": [
    "# Maak aparte dataset voor uitgangen op -pj"
   ]
  },
  {
   "cell_type": "code",
   "execution_count": 6,
   "metadata": {},
   "outputs": [
    {
     "name": "stdout",
     "output_type": "stream",
     "text": [
      "      Code Itemcode      Word  \\\n",
      "49   C070a      525  schaapje   \n",
      "67   D001p      525  schaapje   \n",
      "91   E111p      525  schaapje   \n",
      "95   E133p      525  schaapje   \n",
      "100  E179q      525  schaapje   \n",
      "101  E181p      525  schaapje   \n",
      "107  E200p      525  schaapje   \n",
      "108  E209p      525  schaapje   \n",
      "109  E211p      525  schaapje   \n",
      "116  E232q      525  schaapje   \n",
      "118  F002p      525  schaapje   \n",
      "155  F099p      525  schaapje   \n",
      "162  F109p      525  schaapje   \n",
      "173  F144p      525  schaapje   \n",
      "180  F165p      525  schaapje   \n",
      "181  F169p      525  schaapje   \n",
      "182  F170p      525  schaapje   \n",
      "183  F172p      525  schaapje   \n",
      "184  F173p      525  schaapje   \n",
      "270  I036p      525  schaapje   \n",
      "292  I106p      525  schaapje   \n",
      "295  I117a      525  schaapje   \n",
      "298  I125p      525  schaapje   \n",
      "300  I128p      525  schaapje   \n",
      "310  I162p      525  schaapje   \n",
      "357  K123p      525  schaapje   \n",
      "360  K152p      525  schaapje   \n",
      "399  K275a      525  schaapje   \n",
      "418  L005p      525  schaapje   \n",
      "\n",
      "                                     UTF_transcription  Unicode_transcription  \\\n",
      "49   6~sxo.`pk6 \\n(bv. vrouwen over kinderen: 't sc...            ə̃sxoˑ̞pkə    \n",
      "67                              sxe:`pj6 \\n6n, kle2:n               sxeː̞pjə    \n",
      "91                                            sxa:pj6                sxaːpjə    \n",
      "95                                sxa:<pj6 / ska8:pj6     sxaː̘pjə / skæːpjə    \n",
      "100                        6n sxa:pj6 / sxa:pi \\n(IG)    ən sxaːpjə / sxaːpi    \n",
      "101                                           sxa:pj6                sxaːpjə    \n",
      "107                                           sx7apj6                 sχapjə    \n",
      "108                                    sxa:<pj6 \\n(I)               sxaː̘pjə    \n",
      "109               sxa2:pj6 \\n(\"is meestijds lammetje\"                sxɑːpjə    \n",
      "116                                        6~ sxa:pj6             ə̃ sxaːpjə    \n",
      "118                                          ske:pj6n               skeːpjən    \n",
      "155                      sxa.~p#i2~ / sxa.pj26n \\n(I)   sxaˑ̃p̬ɪ̃ / sxaˑpʝən    \n",
      "162                                        sx|a:pji2_              sx̡aːpjɪ̲    \n",
      "173                                         sx|apj2!6               sx̡apʝ̥ə    \n",
      "180                                         sxa2:pj6s               sxɑːpjəs    \n",
      "181                                        sx|a2.>pj6              sx̡ɑˑ̙pjə    \n",
      "182                                        sx|a.pj2!6              sx̡aˑpʝ̥ə    \n",
      "183                                        sx|a2.>pj6              sx̡ɑˑ̙pjə    \n",
      "184                                     n_ sxa2.>pj26            n̲ sxɑˑ̙pʝə    \n",
      "270                                        sxa8.'pji2               sxæˑ̝pjɪ    \n",
      "292                                         sx7a3<pj6                sχɒ̘pjə    \n",
      "295                                        6~ sxe2pj6              ə̃ sxɛpjə    \n",
      "298                                          sx|a>pj6               sx̡a̙pjə    \n",
      "300                                 sxa3.(2pj6s \\n(I)             sxɒˑ̜̠pjəs    \n",
      "310                                          sxa2:pj6                sxɑːpjə    \n",
      "357                                         sxr0a.pj6              sxr0aˑpjə    \n",
      "360                                          sxa:>pj6               sxaː̙pjə    \n",
      "399                                           sxa2pj6                 sxɑpjə    \n",
      "418                           sx<a2.o2_pj6 / sx<a2pj6   sx̘ɑˑɔ̲pjə / sx̘ɑpjə    \n",
      "\n",
      "                               clean_UTF_transcription  \\\n",
      "49   6~sxo.`pk6 \\n(bv. vrouwen over kinderen: 't sc...   \n",
      "67                              sxe:`pj6 \\n6n, kle2:n    \n",
      "91                                            sxa:pj6    \n",
      "95                                sxa:<pj6 / ska8:pj6    \n",
      "100                        6n sxa:pj6 / sxa:pi \\n(IG)    \n",
      "101                                           sxa:pj6    \n",
      "107                                           sx7apj6    \n",
      "108                                    sxa:<pj6 \\n(I)    \n",
      "109               sxa2:pj6 \\n(\"is meestijds lammetje\"    \n",
      "116                                        6~ sxa:pj6    \n",
      "118                                          ske:pj6n    \n",
      "155                      sxa.~p#i2~ / sxa.pj26n \\n(I)    \n",
      "162                                         sx|a:pji2    \n",
      "173                                         sx|apj2!6    \n",
      "180                                         sxa2:pj6s    \n",
      "181                                        sx|a2.>pj6    \n",
      "182                                        sx|a.pj2!6    \n",
      "183                                        sx|a2.>pj6    \n",
      "184                                      n sxa2.>pj26    \n",
      "270                                        sxa8.'pji2    \n",
      "292                                         sx7a3<pj6    \n",
      "295                                        6~ sxe2pj6    \n",
      "298                                          sx|a>pj6    \n",
      "300                                 sxa3.(2pj6s \\n(I)    \n",
      "310                                          sxa2:pj6    \n",
      "357                                         sxr0a.pj6    \n",
      "360                                          sxa:>pj6    \n",
      "399                                           sxa2pj6    \n",
      "418                            sx<a2.o2pj6 / sx<a2pj6    \n",
      "\n",
      "    clean_Unicode_transcription  \n",
      "49                  ə̃sxoˑ̞pkə   \n",
      "67                    sxeː̞pjə   \n",
      "91                     sxaːpjə   \n",
      "95          sxaː̘pjə / skæːpjə   \n",
      "100        ən sxaːpjə / sxaːpi   \n",
      "101                    sxaːpjə   \n",
      "107                     sχapjə   \n",
      "108                   sxaː̘pjə   \n",
      "109                    sxɑːpjə   \n",
      "116                 ə̃ sxaːpjə   \n",
      "118                   skeːpjən   \n",
      "155       sxaˑ̃p̬ɪ̃ / sxaˑpʝən   \n",
      "162                  sx̡aːpjɪ̲   \n",
      "173                   sx̡apʝ̥ə   \n",
      "180                   sxɑːpjəs   \n",
      "181                  sx̡ɑˑ̙pjə   \n",
      "182                  sx̡aˑpʝ̥ə   \n",
      "183                  sx̡ɑˑ̙pjə   \n",
      "184                n̲ sxɑˑ̙pʝə   \n",
      "270                   sxæˑ̝pjɪ   \n",
      "292                    sχɒ̘pjə   \n",
      "295                  ə̃ sxɛpjə   \n",
      "298                   sx̡a̙pjə   \n",
      "300                 sxɒˑ̜̠pjəs   \n",
      "310                    sxɑːpjə   \n",
      "357                  sxr0aˑpjə   \n",
      "360                   sxaː̙pjə   \n",
      "399                     sxɑpjə   \n",
      "418       sx̘ɑˑɔ̲pjə / sx̘ɑpjə   \n"
     ]
    }
   ],
   "source": [
    "def filter_pj(word):\n",
    "    return len(re.findall(\"pj\", word))>0\n",
    " \n",
    "df_pj = df[df['clean_UTF_transcription'].apply(filter_pj)]\n",
    "print(df_pj)"
   ]
  },
  {
   "cell_type": "markdown",
   "metadata": {},
   "source": [
    "# Verzamel stammen van woorden met -pk\n",
    "Dit stuk code laat de verschillende stammen (minus de p) zien voor woorden die een uitgang op -pk krijgen. NB: alleen de twintig meest voorkomende stammen worden getoond."
   ]
  },
  {
   "cell_type": "code",
   "execution_count": 7,
   "metadata": {
    "scrolled": true
   },
   "outputs": [
    {
     "name": "stdout",
     "output_type": "stream",
     "text": [
      "[sxo2]        24\n",
      "[skji2]       14\n",
      "[sxa2]        11\n",
      "[sxo7]        10\n",
      "[sxo`]         8\n",
      "[sk|ji2]       7\n",
      "[ski]          6\n",
      "[6n sx|o7]     6\n",
      "[s2o7:]        5\n",
      "[sxo/:]        4\n",
      "[sko2:]        4\n",
      "[s2o7]         4\n",
      "[s2o7.]        4\n",
      "[ska2]         4\n",
      "[6n sxo7]      3\n",
      "[6s2e2:]       3\n",
      "[6 s2o7:]      3\n",
      "[sxo2.<(]      3\n",
      "[sxo7:]        3\n",
      "[sx|o7:']      3\n",
      "Name: prec_vowel, dtype: int64\n"
     ]
    },
    {
     "name": "stderr",
     "output_type": "stream",
     "text": [
      "<ipython-input-7-6a2d003dae2e>:4: SettingWithCopyWarning: \n",
      "A value is trying to be set on a copy of a slice from a DataFrame.\n",
      "Try using .loc[row_indexer,col_indexer] = value instead\n",
      "\n",
      "See the caveats in the documentation: https://pandas.pydata.org/pandas-docs/stable/user_guide/indexing.html#returning-a-view-versus-a-copy\n",
      "  df_pk['prec_vowel'] = df_pk['clean_UTF_transcription'].apply(find_vowel_pk)\n"
     ]
    }
   ],
   "source": [
    "def find_vowel_pk(word):\n",
    "    return re.findall(\"(.*)pk\", word)\n",
    "\n",
    "df_pk['prec_vowel'] = df_pk['clean_UTF_transcription'].apply(find_vowel_pk)\n",
    "print(df_pk[\"prec_vowel\"].value_counts().head(20))\n"
   ]
  },
  {
   "cell_type": "markdown",
   "metadata": {},
   "source": [
    "# Verzamel uitgangen van woorden met -pt"
   ]
  },
  {
   "cell_type": "code",
   "execution_count": 8,
   "metadata": {
    "scrolled": true
   },
   "outputs": [
    {
     "name": "stdout",
     "output_type": "stream",
     "text": [
      "[s2x}a2]                9\n",
      "[s2a2]                  7\n",
      "[s?a2]                  2\n",
      "[sx}a2]                 2\n",
      "[s|x}a2]                2\n",
      "[(transcr.]             1\n",
      "[s2x}o2]                1\n",
      "[sxa2>]                 1\n",
      "[s2x}a2.<]              1\n",
      "[sx}a2>pt|6 / s?a2>]    1\n",
      "[s2a2.<]                1\n",
      "Name: prec_vowel, dtype: int64\n"
     ]
    },
    {
     "name": "stderr",
     "output_type": "stream",
     "text": [
      "<ipython-input-8-41d672ad6d30>:4: SettingWithCopyWarning: \n",
      "A value is trying to be set on a copy of a slice from a DataFrame.\n",
      "Try using .loc[row_indexer,col_indexer] = value instead\n",
      "\n",
      "See the caveats in the documentation: https://pandas.pydata.org/pandas-docs/stable/user_guide/indexing.html#returning-a-view-versus-a-copy\n",
      "  df_pt['prec_vowel'] = df_pt['clean_UTF_transcription'].apply(find_vowel_pt)\n"
     ]
    }
   ],
   "source": [
    "def find_vowel_pt(word):\n",
    "    return re.findall(\"(.*)pt\", word)\n",
    "\n",
    "df_pt['prec_vowel'] = df_pt['clean_UTF_transcription'].apply(find_vowel_pt)\n",
    "#print(df_pt)\n",
    "print(df_pt[\"prec_vowel\"].value_counts())"
   ]
  },
  {
   "cell_type": "markdown",
   "metadata": {},
   "source": [
    "# Verzamel uitgangen van woorden met -pj"
   ]
  },
  {
   "cell_type": "code",
   "execution_count": 9,
   "metadata": {},
   "outputs": [
    {
     "name": "stdout",
     "output_type": "stream",
     "text": [
      "[sxa2:]                                   3\n",
      "[sxa:]                                    2\n",
      "[sx|a2.>]                                 2\n",
      "[(bv. vrouwen over kinderen: 't schaa]    1\n",
      "[sx|a.]                                   1\n",
      "[sxa2]                                    1\n",
      "[sxa:>]                                   1\n",
      "[sxr0a.]                                  1\n",
      "[sxa3.(2]                                 1\n",
      "[sx|a>]                                   1\n",
      "[6~ sxe2]                                 1\n",
      "[sx7a3<]                                  1\n",
      "[sxa8.']                                  1\n",
      "[n sxa2.>]                                1\n",
      "[sx|a]                                    1\n",
      "[sxe:`]                                   1\n",
      "[sx|a:]                                   1\n",
      "[sxa.~p#i2~ / sxa.]                       1\n",
      "[ske:]                                    1\n",
      "[6~ sxa:]                                 1\n",
      "[sxa:<]                                   1\n",
      "[sx7a]                                    1\n",
      "[6n sxa:]                                 1\n",
      "[sxa:<pj6 / ska8:]                        1\n",
      "[sx<a2.o2pj6 / sx<a2]                     1\n",
      "Name: prec_vowel, dtype: int64\n"
     ]
    },
    {
     "name": "stderr",
     "output_type": "stream",
     "text": [
      "<ipython-input-9-2fe316ad6781>:4: SettingWithCopyWarning: \n",
      "A value is trying to be set on a copy of a slice from a DataFrame.\n",
      "Try using .loc[row_indexer,col_indexer] = value instead\n",
      "\n",
      "See the caveats in the documentation: https://pandas.pydata.org/pandas-docs/stable/user_guide/indexing.html#returning-a-view-versus-a-copy\n",
      "  df_pj['prec_vowel'] = df_pj['clean_UTF_transcription'].apply(find_vowel_pj)\n"
     ]
    }
   ],
   "source": [
    "def find_vowel_pj(word):\n",
    "    return re.findall(\"(.*)pj\", word)\n",
    "\n",
    "df_pj['prec_vowel'] = df_pj['clean_UTF_transcription'].apply(find_vowel_pj)\n",
    "print(df_pj[\"prec_vowel\"].value_counts())"
   ]
  }
 ],
 "metadata": {
  "kernelspec": {
   "display_name": "jupyternotebookvenv",
   "language": "python",
   "name": "jupyternotebookvenv"
  },
  "language_info": {
   "codemirror_mode": {
    "name": "ipython",
    "version": 3
   },
   "file_extension": ".py",
   "mimetype": "text/x-python",
   "name": "python",
   "nbconvert_exporter": "python",
   "pygments_lexer": "ipython3",
   "version": "3.8.10"
  }
 },
 "nbformat": 4,
 "nbformat_minor": 4
}
