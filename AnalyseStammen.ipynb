{
 "cells": [
  {
   "cell_type": "code",
   "execution_count": 1,
   "metadata": {},
   "outputs": [],
   "source": [
    "import pandas as pd\n",
    "import csv\n",
    "import math\n",
    "import re"
   ]
  },
  {
   "cell_type": "code",
   "execution_count": 2,
   "metadata": {},
   "outputs": [
    {
     "name": "stdout",
     "output_type": "stream",
     "text": [
      "      Code Itemcode      Word UTF_transcription Unicode_transcription\n",
      "0    A001p      525  schaapje      sxi2.6_p_k6            sxɪˑə̲p̲kə \n",
      "1    A001q      525  schaapje         sxi6_pk6              sxiə̲pkə \n",
      "2    A001z      525  schaapje       6n sxi.pk6            ən sxiˑpkə \n",
      "3    A002p      525  schaapje        sxi.6p]k6             sxiˑəp̚kə \n",
      "4    A007p      525  schaapje      6n ski2e_pi            ən skɪe̲pi \n",
      "..     ...      ...       ...               ...                   ...\n",
      "612  Q240p      525  schaapje      s2o7pk6 --V             ʃœpkə --v \n",
      "613  s007p      525  schaapje         s2a2pt|6                ʃɑpt̡ə \n",
      "614  s015p      525  schaapje         s2a2pt|6                ʃɑpt̡ə \n",
      "615  s017p      525  schaapje         s2a2pt|6                ʃɑpt̡ə \n",
      "616  s021a      525  schaapje         s2a2pt|6                 ʃɑpt̡ə\n",
      "\n",
      "[617 rows x 5 columns]\n"
     ]
    }
   ],
   "source": [
    "df = pd.read_excel('Data.xlsx', dtype=str)\n",
    "print(df)"
   ]
  },
  {
   "cell_type": "markdown",
   "metadata": {},
   "source": [
    "# Data opschonen\n",
    "Bepaalde karakters worden uit de transcriptie verwijderd om de data-analyse makkelijker te maken."
   ]
  },
  {
   "cell_type": "code",
   "execution_count": 3,
   "metadata": {},
   "outputs": [
    {
     "name": "stdout",
     "output_type": "stream",
     "text": [
      "      Code Itemcode      Word UTF_transcription Unicode_transcription  \\\n",
      "0    A001p      525  schaapje      sxi2.6_p_k6            sxɪˑə̲p̲kə    \n",
      "1    A001q      525  schaapje         sxi6_pk6              sxiə̲pkə    \n",
      "2    A001z      525  schaapje       6n sxi.pk6            ən sxiˑpkə    \n",
      "3    A002p      525  schaapje        sxi.6p]k6             sxiˑəp̚kə    \n",
      "4    A007p      525  schaapje      6n ski2e_pi            ən skɪe̲pi    \n",
      "..     ...      ...       ...               ...                   ...   \n",
      "612  Q240p      525  schaapje      s2o7pk6 --V             ʃœpkə --v    \n",
      "613  s007p      525  schaapje         s2a2pt|6                ʃɑpt̡ə    \n",
      "614  s015p      525  schaapje         s2a2pt|6                ʃɑpt̡ə    \n",
      "615  s017p      525  schaapje         s2a2pt|6                ʃɑpt̡ə    \n",
      "616  s021a      525  schaapje         s2a2pt|6                 ʃɑpt̡ə   \n",
      "\n",
      "    clean_UTF_transcription clean_Unicode_transcription  \n",
      "0                sxi2.6pk6                  sxɪˑə̲p̲kə   \n",
      "1                  sxi6pk6                    sxiə̲pkə   \n",
      "2               6n sxi.pk6                  ən sxiˑpkə   \n",
      "3                 sxi.6pk6                   sxiˑəp̚kə   \n",
      "4               6n ski2epi                  ən skɪe̲pi   \n",
      "..                      ...                         ...  \n",
      "612               s2o7pk6                       ʃœpkə    \n",
      "613               s2a2pt|6                      ʃɑpt̡ə   \n",
      "614               s2a2pt|6                      ʃɑpt̡ə   \n",
      "615               s2a2pt|6                      ʃɑpt̡ə   \n",
      "616               s2a2pt|6                       ʃɑpt̡ə  \n",
      "\n",
      "[617 rows x 7 columns]\n"
     ]
    }
   ],
   "source": [
    "\n",
    "\n",
    "def clean_data(word):\n",
    "    try: \n",
    "        if isinstance(word, str):\n",
    "            word = word.replace(\"_\", \"\")\n",
    "            word = word.replace(\"--V\", \"\")\n",
    "            word = word.replace(\"--v\", \"\")\n",
    "            word = word.replace(\"]\", \"\")\n",
    "            return word\n",
    "        else:\n",
    "            return \"\"\n",
    "    except: \n",
    "        print(word)\n",
    "\n",
    "df['clean_UTF_transcription'] = df['UTF_transcription'].apply(clean_data)\n",
    "df['clean_Unicode_transcription'] = df['Unicode_transcription'].apply(clean_data)\n",
    "\n",
    "print(df)\n",
    "\n",
    "\n"
   ]
  },
  {
   "cell_type": "markdown",
   "metadata": {},
   "source": [
    "# Maak aparte dataset voor uitgangen op -pk"
   ]
  },
  {
   "cell_type": "code",
   "execution_count": 4,
   "metadata": {
    "scrolled": false
   },
   "outputs": [
    {
     "name": "stdout",
     "output_type": "stream",
     "text": [
      "      Code Itemcode      Word UTF_transcription Unicode_transcription  \\\n",
      "0    A001p      525  schaapje      sxi2.6_p_k6            sxɪˑə̲p̲kə    \n",
      "1    A001q      525  schaapje         sxi6_pk6              sxiə̲pkə    \n",
      "2    A001z      525  schaapje       6n sxi.pk6            ən sxiˑpkə    \n",
      "3    A002p      525  schaapje        sxi.6p]k6             sxiˑəp̚kə    \n",
      "5    B001a      525  schaapje        ska:<p]k6             skaː̘p̚kə    \n",
      "..     ...      ...       ...               ...                   ...   \n",
      "607  Q198p      525  schaapje  s2o7:'>pk6 -S-V        ʃœː̝̙pkə -s -v    \n",
      "608  Q200p      525  schaapje     s2o7:pk6 --V            ʃœːpkə --v    \n",
      "609  Q203p      525  schaapje   6 s2o7pk6 -S-V         ə ʃœpkə -s -v    \n",
      "610  Q207p      525  schaapje  6 s2o7p]k6 -S-V        ə ʃœp̚kə -s -v    \n",
      "612  Q240p      525  schaapje      s2o7pk6 --V             ʃœpkə --v    \n",
      "\n",
      "    clean_UTF_transcription clean_Unicode_transcription  \n",
      "0                sxi2.6pk6                  sxɪˑə̲p̲kə   \n",
      "1                  sxi6pk6                    sxiə̲pkə   \n",
      "2               6n sxi.pk6                  ən sxiˑpkə   \n",
      "3                 sxi.6pk6                   sxiˑəp̚kə   \n",
      "5                 ska:<pk6                   skaː̘p̚kə   \n",
      "..                      ...                         ...  \n",
      "607        s2o7:'>pk6 -S-V              ʃœː̝̙pkə -s -v   \n",
      "608              s2o7:pk6                      ʃœːpkə    \n",
      "609         6 s2o7pk6 -S-V               ə ʃœpkə -s -v   \n",
      "610         6 s2o7pk6 -S-V              ə ʃœp̚kə -s -v   \n",
      "612               s2o7pk6                       ʃœpkə    \n",
      "\n",
      "[348 rows x 7 columns]\n"
     ]
    }
   ],
   "source": [
    "def filter_pk(word):\n",
    "    return len(re.findall(\"pk\", word))>0\n",
    "\n",
    "df_pk = df[df['clean_UTF_transcription'].apply(filter_pk)]\n",
    "print(df_pk)\n",
    "\n"
   ]
  },
  {
   "cell_type": "markdown",
   "metadata": {},
   "source": [
    "# Maak aparte dataset voor uitgangen op -pt"
   ]
  },
  {
   "cell_type": "code",
   "execution_count": 5,
   "metadata": {
    "scrolled": true
   },
   "outputs": [
    {
     "name": "stdout",
     "output_type": "stream",
     "text": [
      "      Code Itemcode      Word UTF_transcription Unicode_transcription  \\\n",
      "0    A001p      525  schaapje      sxi2.6_p_k6            sxɪˑə̲p̲kə    \n",
      "1    A001q      525  schaapje         sxi6_pk6              sxiə̲pkə    \n",
      "2    A001z      525  schaapje       6n sxi.pk6            ən sxiˑpkə    \n",
      "3    A002p      525  schaapje        sxi.6p]k6             sxiˑəp̚kə    \n",
      "4    A007p      525  schaapje      6n ski2e_pi            ən skɪe̲pi    \n",
      "..     ...      ...       ...               ...                   ...   \n",
      "612  Q240p      525  schaapje      s2o7pk6 --V             ʃœpkə --v    \n",
      "613  s007p      525  schaapje         s2a2pt|6                ʃɑpt̡ə    \n",
      "614  s015p      525  schaapje         s2a2pt|6                ʃɑpt̡ə    \n",
      "615  s017p      525  schaapje         s2a2pt|6                ʃɑpt̡ə    \n",
      "616  s021a      525  schaapje         s2a2pt|6                 ʃɑpt̡ə   \n",
      "\n",
      "    clean_UTF_transcription clean_Unicode_transcription  \n",
      "0                sxi2.6pk6                  sxɪˑə̲p̲kə   \n",
      "1                  sxi6pk6                    sxiə̲pkə   \n",
      "2               6n sxi.pk6                  ən sxiˑpkə   \n",
      "3                 sxi.6pk6                   sxiˑəp̚kə   \n",
      "4               6n ski2epi                  ən skɪe̲pi   \n",
      "..                      ...                         ...  \n",
      "612               s2o7pk6                       ʃœpkə    \n",
      "613               s2a2pt|6                      ʃɑpt̡ə   \n",
      "614               s2a2pt|6                      ʃɑpt̡ə   \n",
      "615               s2a2pt|6                      ʃɑpt̡ə   \n",
      "616               s2a2pt|6                       ʃɑpt̡ə  \n",
      "\n",
      "[617 rows x 7 columns]\n",
      "      Code Itemcode      Word          UTF_transcription  \\\n",
      "142  F074p      525  schaapje  ska3:pi \\n(transcr.ptvr)    \n",
      "250  H002p      525  schaapje                  s?a2pt|6    \n",
      "251  H003p      525  schaapje              s2x}a2pt|s26    \n",
      "252  H016p      525  schaapje                s2x}o2pt|6    \n",
      "253  H036p      525  schaapje              sxa2>pt|j|i`    \n",
      "254  H046p      525  schaapje            s2x}a2.<pt|s26    \n",
      "255  H054p      525  schaapje                 sx}a2pt|6    \n",
      "256  H061p      525  schaapje                 sx}a2pt|6    \n",
      "257  H069p      525  schaapje    sx}a2>pt|6 / s?a2>pt|6    \n",
      "258  H076p      525  schaapje                s2x}a2ptj6    \n",
      "259  H084p      525  schaapje                s2x}a2pt|6    \n",
      "260  H116p      525  schaapje                  s?a2pt|6    \n",
      "503  N003p      525  schaapje                  s2a2pt|6    \n",
      "504  N006p      525  schaapje                s2a2.<pt|6    \n",
      "505  N014p      525  schaapje                s2x}a2pt|6    \n",
      "506  N021p      525  schaapje                s2x}a2pt|6    \n",
      "507  N028a      525  schaapje              s|x}a2pt|s26    \n",
      "509  N056p      525  schaapje                  s2a2pt|6    \n",
      "510  N065p      525  schaapje              s|x}a2pt|s26    \n",
      "511  N067p      525  schaapje                s2x}a2pt|6    \n",
      "512  N072p      525  schaapje                s2x}a2pt|6    \n",
      "515  N104p      525  schaapje                  s2a2pt|6    \n",
      "516  N108p      525  schaapje              s2x}a2pt|s26    \n",
      "520  N163p      525  schaapje                s2x}a2pt|6    \n",
      "613  s007p      525  schaapje                  s2a2pt|6    \n",
      "614  s015p      525  schaapje                  s2a2pt|6    \n",
      "615  s017p      525  schaapje                  s2a2pt|6    \n",
      "616  s021a      525  schaapje                  s2a2pt|6    \n",
      "\n",
      "     Unicode_transcription    clean_UTF_transcription  \\\n",
      "142                skɒːpi   ska3:pi \\n(transcr.ptvr)    \n",
      "250               sʔɑpt̡ə                   s?a2pt|6    \n",
      "251             ʃxˁɑpt̡ʃə               s2x}a2pt|s26    \n",
      "252              ʃxˁɔpt̡ə                 s2x}o2pt|6    \n",
      "253           sxɑ̙pt̡j̡i̞               sxa2>pt|j|i`    \n",
      "254           ʃxˁɑˑ̘pt̡ʃə             s2x}a2.<pt|s26    \n",
      "255              sxˁɑpt̡ə                  sx}a2pt|6    \n",
      "256              sxˁɑpt̡ə                  sx}a2pt|6    \n",
      "257  sxˁɑ̙pt̡ə / sʔɑ̙pt̡ə     sx}a2>pt|6 / s?a2>pt|6    \n",
      "258              ʃxˁɑptjə                 s2x}a2ptj6    \n",
      "259              ʃxˁɑpt̡ə                 s2x}a2pt|6    \n",
      "260               sʔɑpt̡ə                   s?a2pt|6    \n",
      "503                ʃɑpt̡ə                   s2a2pt|6    \n",
      "504              ʃɑˑ̘pt̡ə                 s2a2.<pt|6    \n",
      "505              ʃxˁɑpt̡ə                 s2x}a2pt|6    \n",
      "506              ʃxˁɑpt̡ə                 s2x}a2pt|6    \n",
      "507            s̡xˁɑpt̡ʃə               s|x}a2pt|s26    \n",
      "509                ʃɑpt̡ə                   s2a2pt|6    \n",
      "510            s̡xˁɑpt̡ʃə               s|x}a2pt|s26    \n",
      "511              ʃxˁɑpt̡ə                 s2x}a2pt|6    \n",
      "512              ʃxˁɑpt̡ə                 s2x}a2pt|6    \n",
      "515                ʃɑpt̡ə                   s2a2pt|6    \n",
      "516             ʃxˁɑpt̡ʃə               s2x}a2pt|s26    \n",
      "520              ʃxˁɑpt̡ə                 s2x}a2pt|6    \n",
      "613                ʃɑpt̡ə                   s2a2pt|6    \n",
      "614                ʃɑpt̡ə                   s2a2pt|6    \n",
      "615                ʃɑpt̡ə                   s2a2pt|6    \n",
      "616                 ʃɑpt̡ə                  s2a2pt|6    \n",
      "\n",
      "    clean_Unicode_transcription  \n",
      "142                     skɒːpi   \n",
      "250                    sʔɑpt̡ə   \n",
      "251                  ʃxˁɑpt̡ʃə   \n",
      "252                   ʃxˁɔpt̡ə   \n",
      "253                sxɑ̙pt̡j̡i̞   \n",
      "254                ʃxˁɑˑ̘pt̡ʃə   \n",
      "255                   sxˁɑpt̡ə   \n",
      "256                   sxˁɑpt̡ə   \n",
      "257       sxˁɑ̙pt̡ə / sʔɑ̙pt̡ə   \n",
      "258                   ʃxˁɑptjə   \n",
      "259                   ʃxˁɑpt̡ə   \n",
      "260                    sʔɑpt̡ə   \n",
      "503                     ʃɑpt̡ə   \n",
      "504                   ʃɑˑ̘pt̡ə   \n",
      "505                   ʃxˁɑpt̡ə   \n",
      "506                   ʃxˁɑpt̡ə   \n",
      "507                 s̡xˁɑpt̡ʃə   \n",
      "509                     ʃɑpt̡ə   \n",
      "510                 s̡xˁɑpt̡ʃə   \n",
      "511                   ʃxˁɑpt̡ə   \n",
      "512                   ʃxˁɑpt̡ə   \n",
      "515                     ʃɑpt̡ə   \n",
      "516                  ʃxˁɑpt̡ʃə   \n",
      "520                   ʃxˁɑpt̡ə   \n",
      "613                     ʃɑpt̡ə   \n",
      "614                     ʃɑpt̡ə   \n",
      "615                     ʃɑpt̡ə   \n",
      "616                      ʃɑpt̡ə  \n"
     ]
    }
   ],
   "source": [
    "def filter_pt(word):\n",
    "    return len(re.findall(\"pt\", word))>0\n",
    "\n",
    "print(df)\n",
    " \n",
    "df_pt = df[df['clean_UTF_transcription'].apply(filter_pt)]\n",
    "print(df_pt)"
   ]
  },
  {
   "cell_type": "markdown",
   "metadata": {},
   "source": [
    "# Verzamel stammen van woorden met -pk\n",
    "Dit stuk code laat de verschillende stammen (minus de p) zien voor woorden die een uitgang op -pk krijgen. NB: alleen de twintig meest voorkomende stammen worden getoond."
   ]
  },
  {
   "cell_type": "code",
   "execution_count": 6,
   "metadata": {
    "scrolled": true
   },
   "outputs": [
    {
     "name": "stdout",
     "output_type": "stream",
     "text": [
      "[sxo2]        24\n",
      "[skji2]       14\n",
      "[sxa2]        11\n",
      "[sxo7]        10\n",
      "[sxo`]         8\n",
      "[sk|ji2]       7\n",
      "[ski]          6\n",
      "[6n sx|o7]     6\n",
      "[s2o7:]        5\n",
      "[sxo/:]        4\n",
      "[sko2:]        4\n",
      "[s2o7]         4\n",
      "[s2o7.]        4\n",
      "[ska2]         4\n",
      "[6n sxo7]      3\n",
      "[6s2e2:]       3\n",
      "[6 s2o7:]      3\n",
      "[sxo2.<(]      3\n",
      "[sxo7:]        3\n",
      "[sx|o7:']      3\n",
      "Name: prec_vowel, dtype: int64\n"
     ]
    },
    {
     "name": "stderr",
     "output_type": "stream",
     "text": [
      "<ipython-input-6-6a2d003dae2e>:4: SettingWithCopyWarning: \n",
      "A value is trying to be set on a copy of a slice from a DataFrame.\n",
      "Try using .loc[row_indexer,col_indexer] = value instead\n",
      "\n",
      "See the caveats in the documentation: https://pandas.pydata.org/pandas-docs/stable/user_guide/indexing.html#returning-a-view-versus-a-copy\n",
      "  df_pk['prec_vowel'] = df_pk['clean_UTF_transcription'].apply(find_vowel_pk)\n"
     ]
    }
   ],
   "source": [
    "def find_vowel_pk(word):\n",
    "    return re.findall(\"(.*)pk\", word)\n",
    "\n",
    "df_pk['prec_vowel'] = df_pk['clean_UTF_transcription'].apply(find_vowel_pk)\n",
    "print(df_pk[\"prec_vowel\"].value_counts().head(20))\n"
   ]
  },
  {
   "cell_type": "markdown",
   "metadata": {},
   "source": [
    "# Verzamel uitgangen van woorden met -pt"
   ]
  },
  {
   "cell_type": "code",
   "execution_count": 7,
   "metadata": {},
   "outputs": [
    {
     "name": "stdout",
     "output_type": "stream",
     "text": [
      "[s2x}a2]                9\n",
      "[s2a2]                  7\n",
      "[s?a2]                  2\n",
      "[sx}a2]                 2\n",
      "[s|x}a2]                2\n",
      "[(transcr.]             1\n",
      "[s2x}o2]                1\n",
      "[sxa2>]                 1\n",
      "[s2x}a2.<]              1\n",
      "[sx}a2>pt|6 / s?a2>]    1\n",
      "[s2a2.<]                1\n",
      "Name: prec_vowel, dtype: int64\n"
     ]
    },
    {
     "name": "stderr",
     "output_type": "stream",
     "text": [
      "<ipython-input-7-41d672ad6d30>:4: SettingWithCopyWarning: \n",
      "A value is trying to be set on a copy of a slice from a DataFrame.\n",
      "Try using .loc[row_indexer,col_indexer] = value instead\n",
      "\n",
      "See the caveats in the documentation: https://pandas.pydata.org/pandas-docs/stable/user_guide/indexing.html#returning-a-view-versus-a-copy\n",
      "  df_pt['prec_vowel'] = df_pt['clean_UTF_transcription'].apply(find_vowel_pt)\n"
     ]
    }
   ],
   "source": [
    "def find_vowel_pt(word):\n",
    "    return re.findall(\"(.*)pt\", word)\n",
    "\n",
    "df_pt['prec_vowel'] = df_pt['clean_UTF_transcription'].apply(find_vowel_pt)\n",
    "#print(df_pt)\n",
    "print(df_pt[\"prec_vowel\"].value_counts())"
   ]
  }
 ],
 "metadata": {
  "kernelspec": {
   "display_name": "jupyternotebookvenv",
   "language": "python",
   "name": "jupyternotebookvenv"
  },
  "language_info": {
   "codemirror_mode": {
    "name": "ipython",
    "version": 3
   },
   "file_extension": ".py",
   "mimetype": "text/x-python",
   "name": "python",
   "nbconvert_exporter": "python",
   "pygments_lexer": "ipython3",
   "version": "3.8.10"
  }
 },
 "nbformat": 4,
 "nbformat_minor": 4
}
